{
 "cells": [
  {
   "cell_type": "code",
   "execution_count": 8,
   "id": "b720ac9a",
   "metadata": {},
   "outputs": [],
   "source": [
    "import time\n",
    "from selenium import webdriver\n",
    "from selenium.webdriver.support.ui import WebDriverWait\n",
    "from selenium.webdriver.support import expected_conditions as EC\n",
    "from selenium.webdriver.common.by import By\n",
    "import warnings\n",
    "import pandas as pd\n",
    "warnings.filterwarnings(\"ignore\")"
   ]
  },
  {
   "cell_type": "code",
   "execution_count": 2,
   "id": "50092562",
   "metadata": {},
   "outputs": [],
   "source": [
    "driver=webdriver.Edge()\n",
    "driver.get(\"https://www.bbc.com/\")\n",
    "driver.maximize_window()\n",
    "time.sleep(5)"
   ]
  },
  {
   "cell_type": "code",
   "execution_count": 3,
   "id": "4c4ddf78",
   "metadata": {},
   "outputs": [],
   "source": [
    "headings=driver.find_elements(By.XPATH,'//h3[@class=\"media__title\"]')"
   ]
  },
  {
   "cell_type": "code",
   "execution_count": 4,
   "id": "17c63937",
   "metadata": {
    "scrolled": true
   },
   "outputs": [],
   "source": [
    "links=driver.find_elements(By.CSS_SELECTOR,\"a.media__link\")"
   ]
  },
  {
   "cell_type": "code",
   "execution_count": 5,
   "id": "3ccb56ef",
   "metadata": {},
   "outputs": [],
   "source": [
    "href=[]\n",
    "for i in links:\n",
    "    href.append(i.get_attribute(\"href\"))"
   ]
  },
  {
   "cell_type": "code",
   "execution_count": 6,
   "id": "b66fc9a3",
   "metadata": {},
   "outputs": [
    {
     "name": "stdout",
     "output_type": "stream",
     "text": [
      "https://www.bbc.com/news/world-us-canada-68366337\n",
      "https://www.bbc.com/news/world-europe-68358008\n",
      "https://www.bbc.com/news/world-australia-68366178\n",
      "https://www.bbc.com/culture/article/20240221-dune-part-two-review-denis-villeneuves-science-fiction-sequel-is-jaw-droppingly-weird\n",
      "https://www.bbc.com/worklife/article/20240220-chronoworking-productivity-hack\n",
      "https://www.bbc.com/news/world-asia-68311913\n",
      "https://www.bbc.com/news/world-middle-east-68365284\n",
      "https://www.bbc.com/news/world-middle-east-68360902\n",
      "https://www.bbc.com/sport/football/68366349\n",
      "https://www.bbc.com/sport/football/68351916\n",
      "https://www.bbc.com/sport/tennis/68218531\n",
      "https://www.bbc.com/news/world-asia-india-68345182\n",
      "https://www.bbc.com/news/world-asia-india-68347360\n",
      "https://www.bbc.com/news/world-asia-india-68093666\n",
      "https://www.bbc.com/news/world-asia-india-68334829\n",
      "https://www.bbc.com/culture/article/20240220-sandra-hller-anatomy-of-a-fall-oscars-viral-argument-scene\n",
      "https://www.bbc.com/future/article/20240220-ukraine-and-gaza-the-hidden-effects-of-war-trauma-on-children\n",
      "https://www.bbc.com/travel/article/20240221-sarkese-britains-archaic-norman-language\n",
      "https://www.bbc.com/worklife/article/20240219-therapy-at-work-companies-are-bringing-clinicians-directly-to-their-employees\n",
      "https://www.bbc.com/culture/article/20240220-how-christopher-nolans-british-sensibility-revitalised-robert-downey-jr-in-oppenheimer\n",
      "https://www.bbc.com/travel/article/20240221-breadfruit-the-caribbeans-hurricane-resistant-food\n",
      "https://www.bbc.com/future/article/20240220-bubonic-plague-did-the-black-death-rewire-our-immune-system\n",
      "https://www.bbc.com/news/business-68017347\n",
      "https://www.bbc.com/news/world-us-canada-66715271?&at_bbc_team=studios&at_medium=native&at_objective=acquisition&at_ptr_type=&at_ptr_name=bbc.com&at_format=Module&at_link_origin=bbchomepage&at_campaign=nleditorial&at_campaign_id=&at_adset_name=&at_adset_id=&at_creation=&at_creative_id=&at_campaign_type=owned\n",
      "https://www.bbc.com/news/world-asia-68345046\n",
      "https://www.bbc.com/news/business-68346015\n",
      "https://www.bbc.com/news/entertainment-arts-68362811\n",
      "https://www.bbc.com/news/entertainment-arts-68346811\n",
      "https://www.bbc.com/news/science-environment-68363623\n",
      "https://www.bbc.com/news/technology-68312395\n",
      "https://www.bbc.com/news/entertainment-arts-68360867\n",
      "https://www.bbc.com/news/business-68138944\n",
      "https://www.bbc.com/news/business-67873127\n",
      "https://www.bbc.com/news/in-pictures-68336119\n",
      "https://www.bbc.com/news/world-africa-68295354\n",
      "https://www.bbc.com/newyddion/68305167\n",
      "https://www.bbc.com/news/world-latin-america-68304463\n",
      "https://www.bbc.com/news/world-68261148\n"
     ]
    }
   ],
   "source": [
    "for i in href:\n",
    "    print(i)"
   ]
  },
  {
   "cell_type": "code",
   "execution_count": 9,
   "id": "634defac",
   "metadata": {},
   "outputs": [
    {
     "name": "stdout",
     "output_type": "stream",
     "text": [
      "                                                   URL  \\\n",
      "0    https://www.bbc.com/news/world-us-canada-68366337   \n",
      "1    https://www.bbc.com/news/world-us-canada-68366337   \n",
      "2    https://www.bbc.com/news/world-us-canada-68366337   \n",
      "3    https://www.bbc.com/news/world-us-canada-68366337   \n",
      "4    https://www.bbc.com/news/world-us-canada-68366337   \n",
      "..                                                 ...   \n",
      "593  https://www.bbc.com/news/world-latin-america-6...   \n",
      "594            https://www.bbc.com/news/world-68261148   \n",
      "595            https://www.bbc.com/news/world-68261148   \n",
      "596            https://www.bbc.com/news/world-68261148   \n",
      "597            https://www.bbc.com/news/world-68261148   \n",
      "\n",
      "                                                 Title  \\\n",
      "0    Major Alabama hospital pauses IVF after court ...   \n",
      "1    Major Alabama hospital pauses IVF after court ...   \n",
      "2    Major Alabama hospital pauses IVF after court ...   \n",
      "3    Major Alabama hospital pauses IVF after court ...   \n",
      "4    Major Alabama hospital pauses IVF after court ...   \n",
      "..                                                 ...   \n",
      "593  Rio Carnival: Tribute to black women crowned w...   \n",
      "594          In pictures: Welcoming the Lunar New Year   \n",
      "595          In pictures: Welcoming the Lunar New Year   \n",
      "596          In pictures: Welcoming the Lunar New Year   \n",
      "597          In pictures: Welcoming the Lunar New Year   \n",
      "\n",
      "                                             Paragraph  \n",
      "0    A ruling from the Alabama Supreme Court that f...  \n",
      "1    The southern US state's largest hospital has p...  \n",
      "2    The University of Alabama at Birmingham health...  \n",
      "3    \"We are saddened that this will impact our pat...  \n",
      "4    \"But we must evaluate the potential that our p...  \n",
      "..                                                 ...  \n",
      "593                   All photos subject to copyright.  \n",
      "594  Saturday 10 February marked the start of Lunar...  \n",
      "595  Lunar New Year is typically celebrated in part...  \n",
      "596  Fireworks, music, fairs, lanterns, dragon and ...  \n",
      "597                                                  .  \n",
      "\n",
      "[598 rows x 3 columns]\n"
     ]
    }
   ],
   "source": [
    "\n",
    "data = []\n",
    "driver=webdriver.Edge()\n",
    "# Iterate over each URL\n",
    "for url in href:\n",
    "    # Navigate to the URL\n",
    "    driver.get(url)\n",
    "    time.sleep(5)  # Add a delay to allow the page to load (you may need to adjust this)\n",
    "    try:\n",
    "        title_element=driver.find_element(By.XPATH,'//h1[@id=\"main-heading\"]')\n",
    "        title=title_element.text\n",
    "    except:\n",
    "        title=None\n",
    "    # Find all paragraphs with the specified XPath\n",
    "    paragraphs = driver.find_elements(By.XPATH, '//div[@data-component=\"text-block\"]')\n",
    "    \n",
    "    # Extract text from each paragraph and store it along with the URL\n",
    "    for paragraph in paragraphs:\n",
    "        data.append({'URL': url,\"Title\":title, 'Paragraph': paragraph.text})\n",
    "\n",
    "# Create a DataFrame from the collected data\n",
    "df = pd.DataFrame(data)\n",
    "\n",
    "# Print the DataFrame\n",
    "print(df)\n",
    "\n",
    "# Close the browser\n",
    "driver.quit()"
   ]
  },
  {
   "cell_type": "code",
   "execution_count": 10,
   "id": "8cecc316",
   "metadata": {},
   "outputs": [],
   "source": [
    "df_grouped = df.groupby(['URL',\"Title\"])['Paragraph'].apply(lambda x: ' '.join(x)).reset_index()"
   ]
  },
  {
   "cell_type": "code",
   "execution_count": 11,
   "id": "ea9fe466",
   "metadata": {},
   "outputs": [],
   "source": [
    "df=df_grouped"
   ]
  },
  {
   "cell_type": "code",
   "execution_count": 12,
   "id": "8adaed9c",
   "metadata": {},
   "outputs": [],
   "source": [
    "df.to_csv(\"bbc_news_data.csv\")"
   ]
  }
 ],
 "metadata": {
  "kernelspec": {
   "display_name": "Python 3 (ipykernel)",
   "language": "python",
   "name": "python3"
  },
  "language_info": {
   "codemirror_mode": {
    "name": "ipython",
    "version": 3
   },
   "file_extension": ".py",
   "mimetype": "text/x-python",
   "name": "python",
   "nbconvert_exporter": "python",
   "pygments_lexer": "ipython3",
   "version": "3.11.4"
  }
 },
 "nbformat": 4,
 "nbformat_minor": 5
}
